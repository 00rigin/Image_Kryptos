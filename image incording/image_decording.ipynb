{
 "cells": [
  {
   "cell_type": "markdown",
   "metadata": {},
   "source": [
    "# decording"
   ]
  },
  {
   "cell_type": "markdown",
   "metadata": {},
   "source": [
    "# change - to - text\n",
    "change asciii to text"
   ]
  },
  {
   "cell_type": "code",
   "execution_count": 1,
   "metadata": {},
   "outputs": [],
   "source": [
    "def change_to_text(ascii_list):\n",
    "    change_text = \"\"\n",
    "    for i in range(0, len(ascii_list)):\n",
    "        for txt in ascii_list[i]:\n",
    "            change_text += chr(txt)\n",
    "        \n",
    "    return change_text   "
   ]
  },
  {
   "cell_type": "markdown",
   "metadata": {},
   "source": [
    "# decording Func"
   ]
  },
  {
   "cell_type": "code",
   "execution_count": 2,
   "metadata": {},
   "outputs": [],
   "source": [
    "def decording(path, hor, ver):\n",
    "    img = cv.imread(path)\n",
    "    ascii_list = []\n",
    "    px_list = []\n",
    "    height = img.shape[0]\n",
    "    width = img.shape[1]\n",
    "    string_chr_len = \"\"\n",
    "    string_len = 0\n",
    "    count = 0 # 문자열 길이랑 비교할때 사용 해야지\n",
    "    t = 0\n",
    "    \n",
    "    # 문자열 길이 구함\n",
    "    while (img[0][t][0])<10: \n",
    "        string_chr_len += str(img[0][t][0])\n",
    "        t+=hor\n",
    "    string_len = int(string_chr_len)\n",
    "\n",
    "    for y in range(ver, height, ver):\n",
    "        i = 0\n",
    "        if count>= string_len: break     # 문자열 길이 이상으로 안넘어 가게 조건문 수정 필요\n",
    "        for x in range(0, width, hor):\n",
    "            if i != 0 and i%(width//hor)==0: break\n",
    "            if count>= string_len: break\n",
    "            px_list.append(img[y,x][0]) # blue\n",
    "            #px_list.append(img[y,x][1]) # green\n",
    "            #px_list.append(img[y,x][2]) # red\n",
    "            count+=1\n",
    "            i += 1\n",
    "        ascii_list.append(px_list)\n",
    "        px_list = []\n",
    "\n",
    "    text = change_to_text(ascii_list)\n",
    "    \n",
    "    return text"
   ]
  },
  {
   "cell_type": "markdown",
   "metadata": {},
   "source": [
    "# Main"
   ]
  },
  {
   "cell_type": "code",
   "execution_count": 3,
   "metadata": {},
   "outputs": [
    {
     "name": "stdout",
     "output_type": "stream",
     "text": [
      "By the 12th century Middle English was fully developed, integrating both Norse and Norman features; it continued to be spoken until the transition to early Modern English around 1500.  Middle English literature includes Geoffrey Chaucer's The Canterbury Tales, and Malory's Le Morte d'Arthur.  In the Middle English period, the use of regional dialects in writing proliferated, and dialect traits were even used for effect by authors such as Chaucer.  By the 12th century Middle English was fully developed, integrating both Norse and Norman features; it continued to be spoken until the transition to early Modern English around 1500.  Middle English literature includes Geoffrey Chaucer's The Canterbury Tales, and Malory's Le Morte d'Arthur.  In the Middle English period, the use of regional dialects in writing proliferated, and dialect traits were even used for effect by authors such as Chaucer.  By the 12th century Middle English was fully developed, integrating both Norse and Norman features; it continued to be spoken until the transition to early Modern English around 1500.  Middle English literature includes Geoffrey Chaucer's The Canterbury Tales, and Malory's Le Morte d'Arthur.  In the Middle English period, the use of regional dialects in writing proliferated, and dialect traits were even used for effect by authors such as Chaucer.  By the 12th century Middle English was fully developed, integrating both Norse and Norman features; it continued to be spoken until the transition to early Modern English around 1500.  Middle English literature includes Geoffrey Chaucer's The Canterbury Tales, and Malory's Le Morte d'Arthur.  In the Middle English period, the use of regional dialects in writing proliferated, and dialect traits were even used for effect by authors such as Chaucer.\n"
     ]
    }
   ],
   "source": [
    "import cv2 as cv\n",
    "import sys\n",
    "save_path = 'C:/Users/yunbs/Desktop/Univ/python_image_encording_decording/decorded_text.txt'\n",
    "path = 'C:/Users/yunbs/Desktop/Univ/python_image_encording_decording/encorded_image.png'\n",
    "ver = 5\n",
    "hor = 5\n",
    "#path = input() 나중에 사용\n",
    "text = decording(path, hor, ver)\n",
    "\n",
    "print(text)\n",
    "fd = open(save_path,'w')\n",
    "fd.write(text)\n",
    "fd.close()"
   ]
  },
  {
   "cell_type": "code",
   "execution_count": null,
   "metadata": {},
   "outputs": [],
   "source": []
  }
 ],
 "metadata": {
  "kernelspec": {
   "display_name": "Python 3",
   "language": "python",
   "name": "python3"
  },
  "language_info": {
   "codemirror_mode": {
    "name": "ipython",
    "version": 3
   },
   "file_extension": ".py",
   "mimetype": "text/x-python",
   "name": "python",
   "nbconvert_exporter": "python",
   "pygments_lexer": "ipython3",
   "version": "3.7.3"
  }
 },
 "nbformat": 4,
 "nbformat_minor": 2
}
